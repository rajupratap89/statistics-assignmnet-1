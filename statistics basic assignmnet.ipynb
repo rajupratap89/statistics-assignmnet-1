{
 "cells": [
  {
   "cell_type": "code",
   "execution_count": null,
   "id": "aac9ab78-0e9e-4097-8c38-fe6f5749bd87",
   "metadata": {},
   "outputs": [],
   "source": [
    "Q1. What is Statistics?"
   ]
  },
  {
   "cell_type": "code",
   "execution_count": null,
   "id": "e6351ce2-cb03-431f-9ff8-344d0cff75f3",
   "metadata": {},
   "outputs": [],
   "source": [
    "statistics is the branch of science in which deal with analyzing,collecting,presentation of data is called statistics"
   ]
  },
  {
   "cell_type": "code",
   "execution_count": null,
   "id": "b5f78753-488c-47b7-95fe-7150e798b2c0",
   "metadata": {},
   "outputs": [],
   "source": [
    "Q2. Define the different types of statistics and give an example of when each type might be used."
   ]
  },
  {
   "cell_type": "code",
   "execution_count": null,
   "id": "9eb8d2be-b827-4458-a421-21cff47dbb05",
   "metadata": {},
   "outputs": [],
   "source": [
    "types of statistics:\n",
    "    1.Descriptive statistics-example:height of students in classroom\n",
    "    2.Infesntial statistics-example :Media collect data in different places summarize the data then give data."
   ]
  },
  {
   "cell_type": "code",
   "execution_count": null,
   "id": "09c490ea-76a7-4677-a808-1d21585b90b5",
   "metadata": {},
   "outputs": [],
   "source": [
    "Q3. What are the different types of data and how do they differ from each other? Provide an example of\n",
    "each type of"
   ]
  },
  {
   "cell_type": "code",
   "execution_count": null,
   "id": "63067e1d-a1b6-4fe6-aabc-780d0a66fb7f",
   "metadata": {},
   "outputs": [],
   "source": [
    "Different types of data :\n",
    "    1.Quantative :\n",
    "        (1) Discrete : Data in whole number \n",
    "            eg.-Number of children in families\n",
    "               -Number of bank account\n",
    "            \n",
    "        (2) Continuous : Data\n",
    "           eg.-weight,height,length etc\n",
    "            \n",
    "            \n",
    "    2.Qualitative:\n",
    "        (1) Nominal:\n",
    "            eg.-Blood group\n",
    "               -pincode\n",
    "                \n",
    "        (2) Ordinal:\n",
    "            eg.-Good,Bad,Better\n",
    "        "
   ]
  },
  {
   "cell_type": "code",
   "execution_count": null,
   "id": "75099126-2fee-46e5-8912-0f3405e1e219",
   "metadata": {},
   "outputs": [],
   "source": [
    "Q4. Categorise the following datasets with respect to quantitative and qualitative data types:\n",
    "(i) Grading in exam: A+, A, B+, B, C+, C, D, E\n",
    "(ii) Colour of mangoes: yellow, green, orange, red\n",
    "(iii) Height data of a class: [178.9, 179, 179.5, 176, 177.2, 178.3, 175.8,...]\n",
    "(iv) Number of mangoes exported by a farm: [500, 600, 478, 672, ...]"
   ]
  },
  {
   "cell_type": "code",
   "execution_count": null,
   "id": "e85159df-9eb7-42b0-8819-0fba90fd42e0",
   "metadata": {},
   "outputs": [],
   "source": [
    "(i) Qualitative\n",
    "(ii) Qualitative\n",
    "(iii) Quantative\n",
    "(iv) Quantative"
   ]
  },
  {
   "cell_type": "code",
   "execution_count": null,
   "id": "b8ffca94-bb95-405c-b481-3f18abbc720a",
   "metadata": {},
   "outputs": [],
   "source": [
    "Q5. Explain the concept of levels of measurement and give an example of a variable for each level."
   ]
  },
  {
   "cell_type": "code",
   "execution_count": null,
   "id": "e9a6a4b4-71e6-4715-bd14-e3249b7b1abc",
   "metadata": {},
   "outputs": [],
   "source": [
    "1.Nominal Scale Data\n",
    "  \n",
    "    1.Qualitative\n",
    "    Eg.-Gender,colours,labels\n",
    "2.Ordinal Scale Data\n",
    "\n",
    "   1.Ranking is important \n",
    "   2.Difference cannot be measure\n",
    "    eg.-Best,Better,Good,Bad\n",
    "       -priopritize Week(Monday,Tuesday,Wednesday,Thursday,Friday)\n",
    "3.Internal Scale Data\n",
    "    \n",
    "    1.The Order is Matter\n",
    "    2.Difference can be measure\n",
    "    3.Ratio can not be measured\n",
    "     eg.-Temperature Variable\n",
    "4.Ratio scale Data\n",
    "   \n",
    "    1.The order matter\n",
    "    2.Difference can be measurable\n",
    "      eg.-Students marks in class(30,40,5)"
   ]
  },
  {
   "cell_type": "code",
   "execution_count": null,
   "id": "497e0163-a125-4dcc-b399-208a1f17ddbe",
   "metadata": {},
   "outputs": [],
   "source": [
    "Q6. Why is it important to understand the level of measurement when analyzing data? Provide an\n",
    "example to illustrate your answer."
   ]
  },
  {
   "cell_type": "code",
   "execution_count": null,
   "id": "dbd3998c-4546-4880-976a-5941203b7b1b",
   "metadata": {},
   "outputs": [],
   "source": [
    "Many of different type of  data involved but category the measurable data in level of measurement.\n",
    "eg.-Quantative data-decimal data ,without decimal data \n",
    "   -Quantative data-Gender ,label"
   ]
  },
  {
   "cell_type": "code",
   "execution_count": null,
   "id": "0a8d4305-b686-4e38-a32f-99292d6e3851",
   "metadata": {},
   "outputs": [],
   "source": [
    "Q7. How nominal data type is different from ordinal data type."
   ]
  },
  {
   "cell_type": "code",
   "execution_count": null,
   "id": "0dd407dc-8638-4b46-bda3-915b05acfadc",
   "metadata": {},
   "outputs": [],
   "source": [
    "In nominal data-order is not matter ,Ranking is not important\n",
    "                eg.-Gender(male and Female)\n",
    "In ordinal data-order is matter ,Ranking is important ,Difference cannot be measure\n",
    "                eg.-Race(1st ,2nd, 3rd)"
   ]
  },
  {
   "cell_type": "code",
   "execution_count": null,
   "id": "77e5e4e4-22f8-4f3d-995d-a3ebc42fa3fb",
   "metadata": {},
   "outputs": [],
   "source": [
    "Q8. Which type of plot can be used to display data in terms of range?"
   ]
  },
  {
   "cell_type": "code",
   "execution_count": null,
   "id": "808d0e9c-4e77-4f01-bae3-6109171da570",
   "metadata": {},
   "outputs": [],
   "source": [
    "Scatterplot can be used to display data in terms of range"
   ]
  },
  {
   "cell_type": "code",
   "execution_count": null,
   "id": "c8ba906b-976f-4390-a6c1-12920b60dbf2",
   "metadata": {},
   "outputs": [],
   "source": [
    "Q9. Describe the difference between descriptive and inferential statistics. Give an example of each\n",
    "type of statistics and explain how they are used."
   ]
  },
  {
   "cell_type": "code",
   "execution_count": null,
   "id": "a99c928f-7a32-4d7f-8c74-6cf3a57e98ad",
   "metadata": {},
   "outputs": [],
   "source": [
    "Descriptive Statistics\n",
    "\n",
    "1.It consisits of organizing and summarizing the data.\n",
    "2.Measure of Central tendency(Mean,Median and Mode)\n",
    "3.Measure of Dispersion(Variance and step deviation)\n",
    "   eg.Height of students in classroom\n",
    "    \n",
    "    \n",
    "Inferential Statistics\n",
    "\n",
    "1.It consists of using Data You have measured to form conclusion\n",
    " eg.-Sample and Population\n",
    "                "
   ]
  },
  {
   "cell_type": "code",
   "execution_count": null,
   "id": "397d7462-25db-46fc-8fb8-d5760e6a3129",
   "metadata": {},
   "outputs": [],
   "source": [
    "Q10. What are some common measures of central tendency and variability used in statistics? Explain\n",
    "how each measure can be used to describe a dataset."
   ]
  },
  {
   "cell_type": "code",
   "execution_count": null,
   "id": "10a96d14-ed4c-4b2d-a2d4-d2f91f5dab2c",
   "metadata": {},
   "outputs": [],
   "source": [
    "Central tendency:\n",
    "    1.mean(average)-Sum of observation divided by Number of observation\n",
    "         eg.-5,4,2,6,7\n",
    "             mean=5,4,26+7"
   ]
  }
 ],
 "metadata": {
  "kernelspec": {
   "display_name": "Python 3 (ipykernel)",
   "language": "python",
   "name": "python3"
  },
  "language_info": {
   "codemirror_mode": {
    "name": "ipython",
    "version": 3
   },
   "file_extension": ".py",
   "mimetype": "text/x-python",
   "name": "python",
   "nbconvert_exporter": "python",
   "pygments_lexer": "ipython3",
   "version": "3.10.8"
  }
 },
 "nbformat": 4,
 "nbformat_minor": 5
}
